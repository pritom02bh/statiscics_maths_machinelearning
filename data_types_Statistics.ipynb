{
 "cells": [
  {
   "cell_type": "markdown",
   "id": "2026aa58-8600-4eaa-b7e4-ba486698b9e5",
   "metadata": {},
   "source": [
    "Statistics, Maths for Machine learning & Data Analysis"
   ]
  },
  {
   "cell_type": "code",
   "execution_count": null,
   "id": "756eccd6-0573-4d75-9814-6b6a8e94725f",
   "metadata": {},
   "outputs": [],
   "source": [
    "Different data Types:"
   ]
  },
  {
   "cell_type": "code",
   "execution_count": 2,
   "id": "b02f64e6-ba23-40e3-b321-e0f720fd9fad",
   "metadata": {},
   "outputs": [],
   "source": [
    "# numerical data (list)\n",
    "num = [11, 12, 32, 34, 54]\n",
    "\n",
    "# character / string\n",
    "char = 'xyz'\n",
    "\n",
    "# boolean / logical\n",
    "logical = True\n",
    "\n",
    "list_data = [ [3, 5, 8], 'hello', 4]\n",
    "\n",
    "# dict()\n",
    "dictdata = dict()\n",
    "dictdata['name'] = 'Pritom Bhowmik'\n",
    "dictdata['age'] = 26\n",
    "dictdata['occupation'] = 'Data Analyst'"
   ]
  },
  {
   "cell_type": "code",
   "execution_count": 3,
   "id": "52646b97-971d-4ca4-a787-a1026222b320",
   "metadata": {},
   "outputs": [
    {
     "name": "stdout",
     "output_type": "stream",
     "text": [
      "Variable    Type    Data/Info\n",
      "-----------------------------\n",
      "char        str     xyz\n",
      "dictdata    dict    n=3\n",
      "list_data   list    n=3\n",
      "logical     bool    True\n",
      "num         list    n=5\n"
     ]
    }
   ],
   "source": [
    "# checking data type of all variables in the workplace\n",
    "%whos"
   ]
  },
  {
   "cell_type": "code",
   "execution_count": null,
   "id": "5bd78a0a-1f7c-47b7-b9fc-1e0c3d188eba",
   "metadata": {},
   "outputs": [],
   "source": []
  }
 ],
 "metadata": {
  "kernelspec": {
   "display_name": "Python 3",
   "language": "python",
   "name": "python3"
  },
  "language_info": {
   "codemirror_mode": {
    "name": "ipython",
    "version": 3
   },
   "file_extension": ".py",
   "mimetype": "text/x-python",
   "name": "python",
   "nbconvert_exporter": "python",
   "pygments_lexer": "ipython3",
   "version": "3.8.5"
  }
 },
 "nbformat": 4,
 "nbformat_minor": 5
}
